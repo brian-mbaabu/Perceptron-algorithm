{
 "cells": [
  {
   "cell_type": "code",
   "execution_count": 5,
   "metadata": {},
   "outputs": [],
   "source": [
    "import pandas as pd"
   ]
  },
  {
   "cell_type": "code",
   "execution_count": 9,
   "metadata": {},
   "outputs": [
    {
     "name": "stdout",
     "output_type": "stream",
     "text": [
      "You got 1 wrong.\n"
     ]
    }
   ],
   "source": [
    "# Coding the and perceptron\n",
    "weight1 = 0.0\n",
    "weight2 = 0.0\n",
    "bias = 0.0\n",
    "\n",
    "test_inputs = [(0,0), (0,1), (1,0), (1,1)]\n",
    "correct_outputs = [False, False, False, True]\n",
    "outputs = []\n",
    "\n",
    "for inputs, correct_output in zip(test_inputs, correct_outputs):\n",
    "    linear_combination = weight1*inputs[0] * weight2*inputs[1] + bias\n",
    "    output = int(linear_combination > 0)\n",
    "    is_correct_string = 'Yes' if output == correct_output else 'No'\n",
    "    outputs.append([inputs[0], inputs[1], linear_combination, output, is_correct_string])\n",
    "\n",
    "num_wrong = len([output[4] for output in outputs if output[4] == 'No'])\n",
    "test = pd.DataFrame(outputs, columns = ['Input 1', 'Input 2', 'linear combination',\n",
    "                                       'Activation Field', 'Correct string'])\n",
    "if not num_wrong:\n",
    "    print('You got all correct.')\n",
    "else:\n",
    "    print(f'You got {num_wrong} wrong.')"
   ]
  },
  {
   "cell_type": "code",
   "execution_count": 12,
   "metadata": {},
   "outputs": [
    {
     "name": "stdout",
     "output_type": "stream",
     "text": [
      "You got all correct!\n",
      "No\n",
      "Yes\n",
      "Yes\n",
      "Yes\n"
     ]
    }
   ],
   "source": [
    "#conding the or perceptron\n",
    "weight1 = 0.0\n",
    "weight2 = 0.0\n",
    "bias = 0.0\n",
    "\n",
    "test_input = [(0,0), (0,1), (1,0), (1,1)]\n",
    "correct_outputs = [False, True, True, True]\n",
    "outputs = []\n",
    "\n",
    "for inputs, correct_output in zip(test_input, correct_outputs):\n",
    "    linear_combination = weight1*inputs[0] + weight2*inputs[1] + bias\n",
    "    output = int(linear_combination >= 0)\n",
    "    if output == correct_output:\n",
    "        is_correct_string = 'Yes'\n",
    "    else:\n",
    "        is_correct_string = 'No'\n",
    "    outputs.append([inputs[0], inputs[1], linear_combination, output, int(correct_output), is_correct_string])\n",
    "    \n",
    "num_wrong = len([output[4] for output in outputs if output == 'No'])\n",
    "test = pd.DataFrame(outputs, columns = ['Input 1', 'Input 2', 'Linear Combination', 'Activation', 'Outputs',\n",
    "                                       'Is Correct String'])\n",
    "if not num_wrong:\n",
    "    print('You got all correct!')\n",
    "else:\n",
    "    print(f'You got {num_wrong} wrong.')\n",
    "    \n",
    "for output in outputs:\n",
    "    if output[3] == output[4]:\n",
    "        print('Yes')\n",
    "    else:\n",
    "        print('No')\n",
    "\n",
    "\n"
   ]
  },
  {
   "cell_type": "code",
   "execution_count": 13,
   "metadata": {},
   "outputs": [
    {
     "name": "stdout",
     "output_type": "stream",
     "text": [
      "You got all correct!\n",
      "Yes\n",
      "No\n",
      "No\n",
      "No\n"
     ]
    }
   ],
   "source": [
    "#Coding the not perceptron\n",
    "weight1 = 0.0\n",
    "weight2 = 0.0\n",
    "bias = 0.0\n",
    "\n",
    "test_input = [(0,0), (0,1), (1,0), (1,1)]\n",
    "correct_outputs = [True, False, False, False]\n",
    "outputs = []\n",
    "\n",
    "for inputs, correct_output in zip(test_input, correct_outputs):\n",
    "    linear_combination = weight1*inputs[0] + weight2*inputs[1] + bias\n",
    "    output = int(linear_combination >= 0)\n",
    "    if output == correct_output:\n",
    "        is_correct_string = 'Yes'\n",
    "    else:\n",
    "        is_correct_string = 'No'\n",
    "    outputs.append([inputs[0], inputs[1], linear_combination, output, int(correct_output), is_correct_string])\n",
    "    \n",
    "num_wrong = len([output[4] for output in outputs if output == 'No'])\n",
    "test = pd.DataFrame(outputs, columns = ['Input 1', 'Input 2', 'Linear Combination', 'Activation', 'Outputs',\n",
    "                                       'Is Correct String'])\n",
    "if not num_wrong:\n",
    "    print('You got all correct!')\n",
    "else:\n",
    "    print(f'You got {num_wrong} wrong.')\n",
    "    \n",
    "for output in outputs:\n",
    "    if output[3] == output[4]:\n",
    "        print('Yes')\n",
    "    else:\n",
    "        print('No')"
   ]
  },
  {
   "cell_type": "code",
   "execution_count": null,
   "metadata": {},
   "outputs": [],
   "source": []
  }
 ],
 "metadata": {
  "kernelspec": {
   "display_name": "Python 3",
   "language": "python",
   "name": "python3"
  },
  "language_info": {
   "codemirror_mode": {
    "name": "ipython",
    "version": 3
   },
   "file_extension": ".py",
   "mimetype": "text/x-python",
   "name": "python",
   "nbconvert_exporter": "python",
   "pygments_lexer": "ipython3",
   "version": "3.7.6"
  }
 },
 "nbformat": 4,
 "nbformat_minor": 4
}
